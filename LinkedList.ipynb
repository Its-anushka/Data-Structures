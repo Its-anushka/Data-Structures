{
  "nbformat": 4,
  "nbformat_minor": 0,
  "metadata": {
    "colab": {
      "provenance": []
    },
    "kernelspec": {
      "name": "python3",
      "display_name": "Python 3"
    },
    "language_info": {
      "name": "python"
    }
  },
  "cells": [
    {
      "cell_type": "markdown",
      "source": [
        "#**Linked List**"
      ],
      "metadata": {
        "id": "21fe4fcyQWKq"
      }
    },
    {
      "cell_type": "code",
      "execution_count": null,
      "metadata": {
        "id": "0xJidC6UQQGw"
      },
      "outputs": [],
      "source": [
        "class Node:\n",
        "  def __init__(self, data = None, next = None):\n",
        "    self.data = data\n",
        "    self.next = next"
      ]
    },
    {
      "cell_type": "code",
      "source": [
        "class LinkedList:\n",
        "  def __init__(self):\n",
        "    self.head = None\n",
        "\n",
        "#inserting an element at the begining\n",
        "  def insert_at_begining(self, data):\n",
        "    node = Node(data, self.head)\n",
        "    self.head = node\n",
        "\n",
        "#inserting an element at the end\n",
        "  def insert_at_end(self, data):\n",
        "    if self.head is None:\n",
        "      self.head = Node(data, None)\n",
        "      return\n",
        "    itr = self.head\n",
        "    while itr.next:\n",
        "      itr = itr.next\n",
        "    itr.next = Node(data, None)\n",
        "\n",
        "#inserting a list of elements\n",
        "  def insert_values(self, data_list):\n",
        "    self.head = None\n",
        "    for data in data_list:\n",
        "      self.insert_at_end(data)\n",
        "\n",
        "#getting length of the linked list\n",
        "  def length(self):\n",
        "    count = 0\n",
        "    itr = self.head\n",
        "    while itr:\n",
        "      count += 1\n",
        "      itr = itr.next\n",
        "    return count\n",
        "\n",
        "#removing a given index\n",
        "  def remove(self, index):\n",
        "    if index < 0 or index >= self.length():\n",
        "      raise Exception(\"Invalid Index\")\n",
        "\n",
        "    if index == 0:\n",
        "      self.head = None\n",
        "      return\n",
        "\n",
        "    count = 0\n",
        "    itr = self.head\n",
        "    while itr:\n",
        "      if count == index-1:\n",
        "        itr.next = itr.next.next\n",
        "        break\n",
        "      itr = itr.next\n",
        "      count += 1\n",
        "\n",
        "#inserting an element at a given index\n",
        "  def insert_at(self, data, index):\n",
        "    if index < 0 or index >= self.length():\n",
        "      raise Exception(\"Invalid Index\")\n",
        "\n",
        "    if index == 0:\n",
        "      self.insert_at_begining(data)\n",
        "      return\n",
        "\n",
        "    itr = self.head\n",
        "    count = 0\n",
        "    while itr:\n",
        "      if count == index-1:\n",
        "        next = itr.next\n",
        "        itr.next = Node(data, next)\n",
        "        break\n",
        "      itr = itr.next\n",
        "      count+=1\n",
        "\n",
        "#inserting an element after the given element\n",
        "  def insert_after_value(self, data_after, data_insert):\n",
        "    flag = True\n",
        "    itr = self.head\n",
        "    while itr:\n",
        "      if itr.data == data_after:\n",
        "        node = Node(data_insert, itr.next)\n",
        "        itr.next = node\n",
        "        flag = False\n",
        "        break\n",
        "      itr = itr.next\n",
        "    if flag == True:\n",
        "      raise Exception(\"Data not found!\")\n",
        "\n",
        "#removing an element by value\n",
        "  def remove_by_value(self, data):\n",
        "    flag = True\n",
        "    itr = self.head\n",
        "    while itr:\n",
        "      if itr.next is None:\n",
        "        raise Exception(\"Data not found!\")\n",
        "\n",
        "      if itr.next.data == data:\n",
        "        itr.next = itr.next.next\n",
        "        flag = False\n",
        "        break\n",
        "      itr = itr.next\n",
        "\n",
        "\n",
        "\n",
        "  def view(self):\n",
        "    if self.head is None:\n",
        "      print(\"Linked list is empty\")\n",
        "    itr = self.head\n",
        "    link = ''\n",
        "    while itr:\n",
        "      link += str(itr.data) + '-->'\n",
        "      itr = itr.next\n",
        "    print(link)"
      ],
      "metadata": {
        "id": "L6IeYek7Sgu8"
      },
      "execution_count": null,
      "outputs": []
    },
    {
      "cell_type": "code",
      "source": [
        "if __name__ == '__main__':\n",
        "  ll =  LinkedList()\n",
        "  ll.insert_at_begining(5)\n",
        "  ll.insert_at_begining(89)\n",
        "  ll.insert_at_begining(88)\n",
        "  ll.insert_at_begining(90)\n",
        "  ll.insert_at_end(55)\n",
        "  ll.insert_at(56, 3)\n",
        "  ll.insert_after_value(56, 105)\n",
        "  ll.remove_by_value(110)\n",
        "\n",
        "  ll.view()\n"
      ],
      "metadata": {
        "colab": {
          "base_uri": "https://localhost:8080/",
          "height": 332
        },
        "id": "A23A57xBTQTg",
        "outputId": "d78135e7-c6b2-4b48-f8d6-cabfab6e53ad"
      },
      "execution_count": null,
      "outputs": [
        {
          "output_type": "error",
          "ename": "Exception",
          "evalue": "Data not found!",
          "traceback": [
            "\u001b[0;31m---------------------------------------------------------------------------\u001b[0m",
            "\u001b[0;31mException\u001b[0m                                 Traceback (most recent call last)",
            "\u001b[0;32m<ipython-input-41-bdc6747cdd47>\u001b[0m in \u001b[0;36m<cell line: 1>\u001b[0;34m()\u001b[0m\n\u001b[1;32m      8\u001b[0m   \u001b[0mll\u001b[0m\u001b[0;34m.\u001b[0m\u001b[0minsert_at\u001b[0m\u001b[0;34m(\u001b[0m\u001b[0;36m56\u001b[0m\u001b[0;34m,\u001b[0m \u001b[0;36m3\u001b[0m\u001b[0;34m)\u001b[0m\u001b[0;34m\u001b[0m\u001b[0;34m\u001b[0m\u001b[0m\n\u001b[1;32m      9\u001b[0m   \u001b[0mll\u001b[0m\u001b[0;34m.\u001b[0m\u001b[0minsert_after_value\u001b[0m\u001b[0;34m(\u001b[0m\u001b[0;36m56\u001b[0m\u001b[0;34m,\u001b[0m \u001b[0;36m105\u001b[0m\u001b[0;34m)\u001b[0m\u001b[0;34m\u001b[0m\u001b[0;34m\u001b[0m\u001b[0m\n\u001b[0;32m---> 10\u001b[0;31m   \u001b[0mll\u001b[0m\u001b[0;34m.\u001b[0m\u001b[0mremove_by_value\u001b[0m\u001b[0;34m(\u001b[0m\u001b[0;36m110\u001b[0m\u001b[0;34m)\u001b[0m\u001b[0;34m\u001b[0m\u001b[0;34m\u001b[0m\u001b[0m\n\u001b[0m\u001b[1;32m     11\u001b[0m \u001b[0;34m\u001b[0m\u001b[0m\n\u001b[1;32m     12\u001b[0m   \u001b[0mll\u001b[0m\u001b[0;34m.\u001b[0m\u001b[0mview\u001b[0m\u001b[0;34m(\u001b[0m\u001b[0;34m)\u001b[0m\u001b[0;34m\u001b[0m\u001b[0;34m\u001b[0m\u001b[0m\n",
            "\u001b[0;32m<ipython-input-40-1c3f2db49d03>\u001b[0m in \u001b[0;36mremove_by_value\u001b[0;34m(self, data)\u001b[0m\n\u001b[1;32m     89\u001b[0m     \u001b[0;32mwhile\u001b[0m \u001b[0mitr\u001b[0m\u001b[0;34m:\u001b[0m\u001b[0;34m\u001b[0m\u001b[0;34m\u001b[0m\u001b[0m\n\u001b[1;32m     90\u001b[0m       \u001b[0;32mif\u001b[0m \u001b[0mitr\u001b[0m\u001b[0;34m.\u001b[0m\u001b[0mnext\u001b[0m \u001b[0;32mis\u001b[0m \u001b[0;32mNone\u001b[0m\u001b[0;34m:\u001b[0m\u001b[0;34m\u001b[0m\u001b[0;34m\u001b[0m\u001b[0m\n\u001b[0;32m---> 91\u001b[0;31m         \u001b[0;32mraise\u001b[0m \u001b[0mException\u001b[0m\u001b[0;34m(\u001b[0m\u001b[0;34m\"Data not found!\"\u001b[0m\u001b[0;34m)\u001b[0m\u001b[0;34m\u001b[0m\u001b[0;34m\u001b[0m\u001b[0m\n\u001b[0m\u001b[1;32m     92\u001b[0m \u001b[0;34m\u001b[0m\u001b[0m\n\u001b[1;32m     93\u001b[0m       \u001b[0;32mif\u001b[0m \u001b[0mitr\u001b[0m\u001b[0;34m.\u001b[0m\u001b[0mnext\u001b[0m\u001b[0;34m.\u001b[0m\u001b[0mdata\u001b[0m \u001b[0;34m==\u001b[0m \u001b[0mdata\u001b[0m\u001b[0;34m:\u001b[0m\u001b[0;34m\u001b[0m\u001b[0;34m\u001b[0m\u001b[0m\n",
            "\u001b[0;31mException\u001b[0m: Data not found!"
          ]
        }
      ]
    },
    {
      "cell_type": "code",
      "source": [],
      "metadata": {
        "id": "JKxc3OZ2a9ud"
      },
      "execution_count": null,
      "outputs": []
    }
  ]
}